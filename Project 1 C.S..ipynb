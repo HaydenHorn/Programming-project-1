{
 "cells": [
  {
   "cell_type": "code",
   "execution_count": 6,
   "id": "1bcb8fd0",
   "metadata": {},
   "outputs": [
    {
     "name": "stdout",
     "output_type": "stream",
     "text": [
      "Rock, Paper, or Scissors?Scissors\n",
      "You win Scissors beats Paper\n"
     ]
    }
   ],
   "source": [
    "from random import randint\n",
    "x= [\"Rock\", \"Paper\",\"Scissors\"]\n",
    "#R is the random choice by cpu\n",
    "R=x[randint(0,2)]\n",
    "player=False\n",
    "while player==False:\n",
    "    player=input(\"Rock, Paper, or Scissors?\")\n",
    "    if player==R:\n",
    "        print(\"Draw\")\n",
    "    elif player ==\"Rock\":\n",
    "        if R==\"paper\":\n",
    "            print(\"You Lose\", R, \"beats\",player)\n",
    "        else:\n",
    "            print(\"You win\", player, \"beats\", R)\n",
    "    elif player==\"Paper\":\n",
    "        if R==\"Scissors\":\n",
    "            print(\"You Lose\", R, \"beats\",player)\n",
    "        else:\n",
    "            print(\"You win\",player,\"beats\",R)\n",
    "    elif player==\"Scissors\":\n",
    "        if R==\"Rock\":\n",
    "            print(\"You Lose\",R,\"beats\",player)\n",
    "        else:\n",
    "            print(\"You win\",player,\"beats\",R)\n",
    "    else:\n",
    "        print(\"\")"
   ]
  },
  {
   "cell_type": "code",
   "execution_count": null,
   "id": "bd8fbabf",
   "metadata": {},
   "outputs": [],
   "source": []
  }
 ],
 "metadata": {
  "kernelspec": {
   "display_name": "Python 3",
   "language": "python",
   "name": "python3"
  },
  "language_info": {
   "codemirror_mode": {
    "name": "ipython",
    "version": 3
   },
   "file_extension": ".py",
   "mimetype": "text/x-python",
   "name": "python",
   "nbconvert_exporter": "python",
   "pygments_lexer": "ipython3",
   "version": "3.8.8"
  }
 },
 "nbformat": 4,
 "nbformat_minor": 5
}
